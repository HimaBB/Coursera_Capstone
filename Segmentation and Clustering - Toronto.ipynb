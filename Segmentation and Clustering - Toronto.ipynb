{
    "cells": [
        {
            "cell_type": "code",
            "execution_count": 166,
            "metadata": {},
            "outputs": [
                {
                    "name": "stdout",
                    "output_type": "stream",
                    "text": "Libraries imported!\n"
                }
            ],
            "source": "from bs4 import BeautifulSoup #library for web scraping\nimport requests  # library to handle requests\nimport json  # library to handle JSON files\nimport xml\nimport pandas as pd #Python library data manipulation and analysis\npd.set_option('display.max_columns', None)\npd.set_option('display.max_rows', None)\n\nprint('Libraries imported!')"
        },
        {
            "cell_type": "code",
            "execution_count": 167,
            "metadata": {},
            "outputs": [],
            "source": "url='https://en.wikipedia.org/wiki/List_of_postal_codes_of_Canada:_M'\nsource = requests.get(url).text\n\nsoup = BeautifulSoup(source, 'lxml')#Beautiful Soup to Parse the url page\n\ntable=soup.find('table') #Finds the required table area\n\n#List initialization to collect the Postalcodes, Boroughs and Neighborhoods\npostalcode=[]\nborough=[]\nneighborhood=[]\n\nx=table.tbody #Navigation to the body of the table\n"
        },
        {
            "cell_type": "code",
            "execution_count": 168,
            "metadata": {},
            "outputs": [],
            "source": "for tr in x.find_all('tr'): #Iterating through rows and columns\n    td=tr.find_all('td')\n    for x in td:\n        #Exception handling to bypass the errors\n        try:\n            if x.span.text!='Not assigned':\n                postalcode.append(x.b.text) #Collecting the Postalcodes\n        except:\n            pass\n        try:\n            if x.span.text!='Not assigned': \n                my=x.span.get_text(separator=u' ').split(' ')\n                \n                if my[1]=='York':\n                    my_b= my[0]+' '+my[1]\n                    borough.append(my_b)\n                    my_nei=my[2:]\n                    if my_nei==['\\n'] or my_nei==[]:\n                        neighborhood.append(my_b)\n                    else:\n                        my_nei1=' '.join(my_nei)\n                        neighborhood.append(my_nei1.replace('(',',',5).replace(')',',',5).replace('/',',',5).strip(', '))\n                \n                elif my[1]=='Toronto':\n                    my_b=my[0]+' '+my[1]\n                    borough.append(my_b)\n                    my_nei=my[2:]\n                    if my_nei==['\\n'] or my_nei==[]:\n                        neighborhood.append(my_b)\n                    else:\n                        my_nei1=' '.join(my_nei)\n                        neighborhood.append(my_nei1.replace('(',',',5).replace(')',',',5).replace('/',',',5).strip(', '))\n                \n                elif my[1]=='Park':\n                    my_b=my[0]+' '+my[1]\n                    borough.append(my_b)\n                    my_nei=my[2:]\n                    if my_nei==['\\n'] or my_nei==[]:\n                        neighborhood.append(my_b)\n                    else:\n                        my_nei1=' '.join(my_nei)\n                        neighborhood.append(my_nei1.replace('(',',',5).replace(')',',',5).replace('/',',',5).strip(', '))\n                \n                else:\n                    my_b=my[0]\n                    borough.append(my_b)\n                    my_nei=my[2:]\n                    if my_nei==['\\n'] or my_nei==[]:\n                        neighborhood.append(my_b)\n                    else:\n                        my_nei1=' '.join(my_nei)\n                        neighborhood.append(my_nei1.replace('(',',',5).replace(')',',',5).replace('/',',',5).strip(', '))\n       \n    \n         \n        except:\n            pass"
        },
        {
            "cell_type": "code",
            "execution_count": 169,
            "metadata": {},
            "outputs": [],
            "source": "#Constructing the main dataframe \nmain_df=pd.DataFrame({'PostalCode':postalcode,\n                 'Borough':borough,\n                 'Neighborhood':neighborhood})"
        },
        {
            "cell_type": "code",
            "execution_count": 170,
            "metadata": {},
            "outputs": [],
            "source": "#Fixing the order of the columns in the main dataframe\nmain_df=main_df[['PostalCode','Borough','Neighborhood']]"
        },
        {
            "cell_type": "code",
            "execution_count": 171,
            "metadata": {},
            "outputs": [
                {
                    "data": {
                        "text/html": "<div>\n<style scoped>\n    .dataframe tbody tr th:only-of-type {\n        vertical-align: middle;\n    }\n\n    .dataframe tbody tr th {\n        vertical-align: top;\n    }\n\n    .dataframe thead th {\n        text-align: right;\n    }\n</style>\n<table border=\"1\" class=\"dataframe\">\n  <thead>\n    <tr style=\"text-align: right;\">\n      <th></th>\n      <th>PostalCode</th>\n      <th>Borough</th>\n      <th>Neighborhood</th>\n    </tr>\n  </thead>\n  <tbody>\n    <tr>\n      <th>0</th>\n      <td>M3A</td>\n      <td>North York</td>\n      <td>Parkwoods</td>\n    </tr>\n    <tr>\n      <th>1</th>\n      <td>M4A</td>\n      <td>North York</td>\n      <td>Victoria Village</td>\n    </tr>\n    <tr>\n      <th>2</th>\n      <td>M5A</td>\n      <td>Downtown Toronto</td>\n      <td>Regent Park  ,  Harbourfront</td>\n    </tr>\n    <tr>\n      <th>3</th>\n      <td>M6A</td>\n      <td>North York</td>\n      <td>Lawrence Manor  ,  Lawrence Heights</td>\n    </tr>\n    <tr>\n      <th>4</th>\n      <td>M7A</td>\n      <td>Queen's Park</td>\n      <td>Ontario Provincial Government</td>\n    </tr>\n    <tr>\n      <th>5</th>\n      <td>M9A</td>\n      <td>Etobicoke</td>\n      <td>Islington Avenue</td>\n    </tr>\n    <tr>\n      <th>6</th>\n      <td>M1B</td>\n      <td>Scarborough</td>\n      <td>Malvern  ,  Rouge</td>\n    </tr>\n    <tr>\n      <th>7</th>\n      <td>M3B</td>\n      <td>North York</td>\n      <td>Don Mills , North</td>\n    </tr>\n    <tr>\n      <th>8</th>\n      <td>M4B</td>\n      <td>East York</td>\n      <td>Parkview Hill  ,  Woodbine Gardens</td>\n    </tr>\n    <tr>\n      <th>9</th>\n      <td>M5B</td>\n      <td>Downtown Toronto</td>\n      <td>Garden District ,  Ryerson</td>\n    </tr>\n  </tbody>\n</table>\n</div>",
                        "text/plain": "  PostalCode           Borough                         Neighborhood\n0        M3A        North York                            Parkwoods\n1        M4A        North York                     Victoria Village\n2        M5A  Downtown Toronto         Regent Park  ,  Harbourfront\n3        M6A        North York  Lawrence Manor  ,  Lawrence Heights\n4        M7A      Queen's Park        Ontario Provincial Government\n5        M9A         Etobicoke                     Islington Avenue\n6        M1B       Scarborough                    Malvern  ,  Rouge\n7        M3B        North York                    Don Mills , North\n8        M4B         East York   Parkview Hill  ,  Woodbine Gardens\n9        M5B  Downtown Toronto           Garden District ,  Ryerson"
                    },
                    "execution_count": 171,
                    "metadata": {},
                    "output_type": "execute_result"
                }
            ],
            "source": "#Visualizing the first few rows of the dataframe\nmain_df.head(10)"
        },
        {
            "cell_type": "code",
            "execution_count": 172,
            "metadata": {},
            "outputs": [
                {
                    "data": {
                        "text/plain": "(103, 3)"
                    },
                    "execution_count": 172,
                    "metadata": {},
                    "output_type": "execute_result"
                }
            ],
            "source": "main_df.shape"
        }
    ],
    "metadata": {
        "kernelspec": {
            "display_name": "Python 3.6",
            "language": "python",
            "name": "python3"
        },
        "language_info": {
            "codemirror_mode": {
                "name": "ipython",
                "version": 3
            },
            "file_extension": ".py",
            "mimetype": "text/x-python",
            "name": "python",
            "nbconvert_exporter": "python",
            "pygments_lexer": "ipython3",
            "version": "3.6.9"
        }
    },
    "nbformat": 4,
    "nbformat_minor": 1
}