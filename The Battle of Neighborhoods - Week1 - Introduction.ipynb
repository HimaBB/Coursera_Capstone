{
    "cells": [
        {
            "cell_type": "markdown",
            "metadata": {
                "collapsed": true
            },
            "source": "## Capstone Project - The Battle of Neighborhoods  \n\n### Week 1 - Introduction / Business Problem \n\n***- Hima Bindu Battapati***"
        },
        {
            "cell_type": "markdown",
            "metadata": {},
            "source": "## INTRODUCTION\n\n***The brief history and about the Introduction of Coffee to the New York City.***  \n*Sources:  \nhttps://stories.starbucks.com/stories/2018/a-brief-history-of-starbucks-in-new-york/  \n          https://www.pbs.org/food/the-history-kitchen/history-coffee/*\n\nEver since the first barrels of coffee arrived from Dutch sailing ships in New Amsterdam, New York City has been at the epicenter of coffee culture and commerce.\n\nWhen coffee first arrived in Manhattan in the mid-1600s, it was a rare luxury enjoyed by just a privileged few. But as the colonies chafed against British rule, the tide began to turn from tea to coffee.\n\nCoffee as an act of patriotism:\n Coffee plants reached the New World during the early 18th century, though the drink wasn't really popular in America until the Boston Tea Party of 1773, when making the switch from tea to coffee became something of a patriotic duty. The Civil War and other conflicts that followed also helped to increase coffee consumption, as soldiers relied on the caffeine for a boost of energy. It may have started a bit later here, but Americans love coffee just as much as the rest of the world.\n\nBy the early 1800s, the city was on its way to becoming the new nation\u2019s coffee capital. The southern tip of Manhattan became known as the Coffee District. Its cobblestone streets were lined with brokers\u2019 offices, who would bid on samples of green, unroasted coffee fetched by errand boys from ships docked nearby. By the late 1800s, the buying and selling of coffee became more formalized with the creation of the Coffee Exchange on Pearl Street in 1882.\n\n\n\u201cBefore downtown rents spiked, lower Manhattan was constantly enveloped in the aroma of roasting coffee,\u201d according to Meister\u2019s book.\n\nThe city\u2019s immigrants also influenced the way the beverage was enjoyed by its inhabitants. There were British clubhouses with curtained booths, Viennese-style coffee shops with marble counters and German bakeries that paired coffee with a sweet.\n\nCoffee was fueling the city that never sleeps. \n\nBy the 20th century, coffee kept the city buzzing. Coffee was everywhere. Brewed coffee was a staple of diners, bodegas and automats. There was also high-end coffee if you knew where to look. One of America\u2019s first espresso machines served espresso in Greenwich Village starting in 1927.\n\nAs now we know how significant was coffee in the American Culture, and initially Manhattan was the Coffee District,  in this project we would like to explore a place/borough which has a maximum number of coffee shops and recommend a place/borough to a client who is interested to start a new Coffee shop.\n\n"
        },
        {
            "cell_type": "code",
            "execution_count": null,
            "metadata": {},
            "outputs": [],
            "source": ""
        }
    ],
    "metadata": {
        "kernelspec": {
            "display_name": "Python 3.6",
            "language": "python",
            "name": "python3"
        },
        "language_info": {
            "codemirror_mode": {
                "name": "ipython",
                "version": 3
            },
            "file_extension": ".py",
            "mimetype": "text/x-python",
            "name": "python",
            "nbconvert_exporter": "python",
            "pygments_lexer": "ipython3",
            "version": "3.6.9"
        }
    },
    "nbformat": 4,
    "nbformat_minor": 1
}