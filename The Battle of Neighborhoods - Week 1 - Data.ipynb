{
    "cells": [
        {
            "cell_type": "markdown",
            "metadata": {},
            "source": "## Capstone Project -  The Battle of Neighborhoods\n\n### Week 1 - Data Section  \n\n***- Hima Bindu Battapati***\n\n"
        },
        {
            "cell_type": "markdown",
            "metadata": {
                "collapsed": true
            },
            "source": "## DATA  \n\n#### Data Sources\n\n* In order to answer the above questions, we need the data for New York City neighborhoods, boroughs to include boundaries, latitude, longitude, coffee shops, and ratings and tips.\n\n* New York City data containing the Neighborhoods and Boroughs, Latitudes, and Longitudes will be obtained from the data source: https://cocl.us/new_york_dataset\n\n* New York City data containing Neighborhood boundaries will be obtained from the data source: https://data.cityofnewyork.us/City-Government/Borough-Boundaries/tqmj-j8zm\n\n* All data related to locations and quality of Coffee shops will be obtained via the FourSquare API through the 'Request' library in Python.\n\n## METHODOLOGY\n\n* Data will be collected from https://cocl.us/new_york_dataset, cleaned and processed into a dataframe.\n\n* FourSquare API will be used to locate all venues and then filtered by Coffee shops. Ratings, tips, and likes by users will be counted and added to the dataframe.\n\n* Data will be sorted based on rankings.\n\n* Finally, the data be will be visually assessed using graphing from various Python libraries.\n\n### Queries that can be answered by the end of this project\n* Which borough has the highest number of coffee shops in NYC?\n\n* In which Neighborhood and/or borough should I recommend for a Coffee shop to have the best chance of being successful?"
        },
        {
            "cell_type": "code",
            "execution_count": null,
            "metadata": {},
            "outputs": [],
            "source": ""
        }
    ],
    "metadata": {
        "kernelspec": {
            "display_name": "Python 3.6",
            "language": "python",
            "name": "python3"
        },
        "language_info": {
            "codemirror_mode": {
                "name": "ipython",
                "version": 3
            },
            "file_extension": ".py",
            "mimetype": "text/x-python",
            "name": "python",
            "nbconvert_exporter": "python",
            "pygments_lexer": "ipython3",
            "version": "3.6.9"
        }
    },
    "nbformat": 4,
    "nbformat_minor": 1
}